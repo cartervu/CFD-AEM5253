{
 "cells": [
  {
   "cell_type": "code",
   "execution_count": 12,
   "id": "4e9c1540-c2ea-4b8e-a2cc-fcccc02a9e9e",
   "metadata": {},
   "outputs": [],
   "source": [
    "import numpy as np\n",
    "\n",
    "#next steps:\n",
    "# - make a function that takes as input the vector g and the function values y at positions x at time t\n",
    "# and outputs the vector f1 that is the function values at the same x values at the next time step.\n",
    "# Because we can write a vector for g, one g for each point x, then we solve RK3 at each x.\n",
    "# We iterate over space. For each xvalue, we call RK3 or expEuler once, to advance to the next timestep.\n"
   ]
  },
  {
   "cell_type": "code",
   "execution_count": 83,
   "id": "9a1b1abe-a68b-42e7-9dae-71c718aef8eb",
   "metadata": {},
   "outputs": [],
   "source": [
    "def expEuler(g,dt,y,tk):\n",
    "    yk1 = y + dt*g(y,tk)\n",
    "    return yk1\n",
    "\n",
    "def RK3(g,dt,y,tk):\n",
    "    K0 = g(y,tk)\n",
    "    K1 = g(y+dt*K0/2,tk+dt/2)\n",
    "    K2 = g(y+2*dt*K1-dt*K0,tk+dt)\n",
    "    yk1 = y + (K0+4*K1+K2)*dt/6\n",
    "    return yk1\n",
    "\n",
    "# make a function that accepts a vector of functions g?\n",
    "# I have the form g = -aSf, where S is a matrix and f is a vector\n",
    "# I can take each row of -aSf as a function of f, and then "
   ]
  },
  {
   "cell_type": "code",
   "execution_count": 82,
   "id": "16e7bff0-2c35-464d-8152-33c64191fd92",
   "metadata": {},
   "outputs": [],
   "source": [
    "#We do points 0 thru N, where point x(N+1)=L=0\n",
    "#f = F(:,0) should have N points\n",
    "# This means F should have N+2 rows (with 2 ghost rows for 4th order central) \n",
    "# F should have numsteps = T/Delta T columns\n",
    "# S should be NxN\n",
    "# f0 is an argument of \"solve\"\n",
    "\n",
    "def solveadv(a,L,N,dt,f0,Spatial,TimeSolver):\n",
    "    \n",
    "    #Spatial Controls\n",
    "    dx = L/N\n",
    "    xvals = np.linspace(0,L+dx,N+2)\n",
    "    xvals.reshape(N+2,1)\n",
    "    \n",
    "    #Time Controls\n",
    "    Tp = L/a\n",
    "    runtime = 10*Tp\n",
    "    dt = 0.5*dx/a\n",
    "    numsteps = int(runtime/dt)\n",
    "    stepnums = np.floor(np.array([0,2*Tp,4*Tp,6*Tp,8*Tp,10*Tp])/dt)\n",
    "    \n",
    "    # Initialize matrix F\n",
    "    f0vals = f0(xvals)\n",
    "    F = np.zeros((N+2,numsteps))\n",
    "    F[:,0] = f0vals\n",
    "    \n",
    "    # Determine spatial discretization\n",
    "    \n",
    "    \n",
    "    \n",
    "    \n",
    "    # Loop over time to solve the problem\n",
    "    for n in np.arange(1,numsteps,1):\n",
    "        fold = F[:,n-1]\n",
    "        gvec = -a*np.matmul(S,fold) # Compute vector g = df/dt = -a*df/dx = -a*S*f\n",
    "        fn = np.zeros((N+2,1)) #initialize new vector fn\n",
    "        t = n*dt\n",
    "        for xindex in np.linspace(0,N,1):\n",
    "            g = gvec(xindex)\n",
    "            y = fold(xindex)\n",
    "            fn = TimeSolver(g,dt,y,t) #Note that TimeSolver is a function, while Spatial is a method name\n",
    "        F[:,n] = fn\n",
    "    \n",
    "    #Get the solution at the appropriate times t=0,2*Tp,...\n",
    "    Fplot = np.zeros((N,len(stepnums)))\n",
    "    for stepindex in np.arange(1,len(stepnums),1)\n",
    "        Fplot[:,stepindex] = F[:,stepnums[stepindex]]\n",
    "    \n",
    "    return Fplot\n",
    "    \n",
    "    "
   ]
  },
  {
   "cell_type": "code",
   "execution_count": 79,
   "id": "154539df-8650-46ac-a381-b197d682d1c3",
   "metadata": {},
   "outputs": [],
   "source": [
    "def gaussian(x):\n",
    "    g = np.exp(-100*(x-0.5)**2)\n",
    "    return g\n",
    "\n",
    "def square(x):\n",
    "    if 0.25 < x and x <= 0.75:\n",
    "        s = 1\n",
    "    else:\n",
    "        s = 0\n",
    "    return s"
   ]
  },
  {
   "cell_type": "code",
   "execution_count": 91,
   "id": "1e6325ff-775b-44b9-8b36-46ef207cc34b",
   "metadata": {},
   "outputs": [],
   "source": [
    "# print(solveadv(a=2,L=10,N=100,dt=0.5,f0=gaussian,Spatial=1,Temporal=1))"
   ]
  },
  {
   "cell_type": "code",
   "execution_count": 92,
   "id": "d474849e-7b06-4955-8799-1382841d2bd2",
   "metadata": {},
   "outputs": [],
   "source": [
    "def plot_vals(Fplot,filename=[],title=''):\n",
    "    y1 = Fplot[:,0]\n",
    "    y2 = Fplot[:,1]\n",
    "    y3 = Fplot[:,2]\n",
    "    y4 = Fplot[:,3]\n",
    "    y5 = Fplot[:,4]\n",
    "    y6 = Fplot[:,5]\n",
    "    plt.figure(figsize=(10,5))\n",
    "    plt.grid()\n",
    "    axes_internal = plt.gca()\n",
    "    plt.plot(x1,exact, label = 'Exact Solution, $k=k^*$')\n",
    "    axes_internal.set_xlabel('$x$')\n",
    "    axes_internal.set_ylabel('$f$')\n",
    "    if title: plt.title(title)\n",
    "    plt.plot(x1,y1, label = '$t=0$')\n",
    "    plt.plot(x1,y2, label = '$t=2T_p$')\n",
    "    plt.plot(x1,y3, label = '$t=4T_p$')\n",
    "    plt.plot(x1,y4, label = '$t=6T_p$')\n",
    "    plt.plot(x1,y5, label = '$t=8T_p$')\n",
    "    plt.plot(x1,y6, label = '$t=10T_p$')\n",
    "    plt.legend()\n",
    "    if len(filename) != 0:\n",
    "        plt.savefig(filename+'.png')\n",
    "    plt.show()"
   ]
  },
  {
   "cell_type": "code",
   "execution_count": null,
   "id": "27729b0c-0b08-492a-8af5-05bc2e1f2ba5",
   "metadata": {},
   "outputs": [],
   "source": []
  },
  {
   "cell_type": "code",
   "execution_count": 59,
   "id": "b5b55a40-92b2-4d3c-91fa-d156b0386e8a",
   "metadata": {},
   "outputs": [],
   "source": [
    "# n=100\n",
    "# I = np.arange(n)\n",
    "# I.reshape(n,1)\n",
    "# matrix = np.column_stack((3*I,I**2))\n",
    "# print(I)"
   ]
  },
  {
   "cell_type": "code",
   "execution_count": 90,
   "id": "546fc728-c346-40aa-baf5-b6a03b643d35",
   "metadata": {},
   "outputs": [],
   "source": [
    "# x1 = np.array([0,1,2])\n",
    "# x2 = np.array([[1,1,3],[0,0,0],[1,1,4]])\n",
    "# np.matmul(x1,x2)"
   ]
  },
  {
   "cell_type": "code",
   "execution_count": null,
   "id": "f3bfe3b7-4eaa-47af-8c89-5d54d998a49e",
   "metadata": {},
   "outputs": [],
   "source": []
  },
  {
   "cell_type": "code",
   "execution_count": null,
   "id": "ae01e76f-d245-45c0-b2b2-83430e0ef065",
   "metadata": {},
   "outputs": [],
   "source": []
  }
 ],
 "metadata": {
  "kernelspec": {
   "display_name": "Python 3 (ipykernel)",
   "language": "python",
   "name": "python3"
  },
  "language_info": {
   "codemirror_mode": {
    "name": "ipython",
    "version": 3
   },
   "file_extension": ".py",
   "mimetype": "text/x-python",
   "name": "python",
   "nbconvert_exporter": "python",
   "pygments_lexer": "ipython3",
   "version": "3.10.6"
  }
 },
 "nbformat": 4,
 "nbformat_minor": 5
}
