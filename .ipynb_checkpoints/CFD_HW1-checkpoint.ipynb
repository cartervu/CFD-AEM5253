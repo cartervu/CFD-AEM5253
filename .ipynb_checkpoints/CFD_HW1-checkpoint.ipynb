{
 "cells": [
  {
   "cell_type": "markdown",
   "id": "2948383c-66eb-4f57-9fbb-f1228d5dd86e",
   "metadata": {},
   "source": [
    "# CFD Homework 1"
   ]
  },
  {
   "cell_type": "code",
   "execution_count": 2,
   "id": "bd84caeb-ae89-4e0e-8f42-3174e05851de",
   "metadata": {},
   "outputs": [],
   "source": [
    "import numpy\n",
    "import pandas\n",
    "import matplotlib"
   ]
  },
  {
   "cell_type": "code",
   "execution_count": null,
   "id": "1aaf5cce-a727-4053-957c-b51379379709",
   "metadata": {},
   "outputs": [],
   "source": []
  }
 ],
 "metadata": {
  "kernelspec": {
   "display_name": "Python 3.6",
   "language": "python",
   "name": "python_3.6"
  },
  "language_info": {
   "codemirror_mode": {
    "name": "ipython",
    "version": 3
   },
   "file_extension": ".py",
   "mimetype": "text/x-python",
   "name": "python",
   "nbconvert_exporter": "python",
   "pygments_lexer": "ipython3",
   "version": "3.6.5"
  }
 },
 "nbformat": 4,
 "nbformat_minor": 5
}
