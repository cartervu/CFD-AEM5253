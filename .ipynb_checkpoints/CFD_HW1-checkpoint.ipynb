{
 "cells": [
  {
   "cell_type": "markdown",
   "id": "2948383c-66eb-4f57-9fbb-f1228d5dd86e",
   "metadata": {},
   "source": [
    "# CFD Homework 1"
   ]
  },
  {
   "cell_type": "code",
   "execution_count": 84,
   "id": "bd84caeb-ae89-4e0e-8f42-3174e05851de",
   "metadata": {},
   "outputs": [],
   "source": [
    "import numpy as np\n",
    "import matplotlib.pyplot as plt\n",
    "import math"
   ]
  },
  {
   "cell_type": "code",
   "execution_count": 176,
   "id": "1aaf5cce-a727-4053-957c-b51379379709",
   "metadata": {},
   "outputs": [],
   "source": [
    "def expEuler(g,dt,xik,tk):\n",
    "    xik1 = xik + dt*g(xik,tk)\n",
    "    return xik1\n",
    "\n",
    "def impEulerP1(g,dt,xik,tk):\n",
    "    xik1 = xik / (1 + 2 * dt)\n",
    "    return xik1\n",
    "\n",
    "def RK2(g,dt,xik,tk):\n",
    "    K0 = g(xik,tk)\n",
    "    K1 = g(xik+dt*K0/2,tk+dt/2)\n",
    "    xik1 = xik + dt*K1\n",
    "    return xik1\n",
    "\n",
    "def RK4(g,dt,xik,tk):\n",
    "    K0 = g(xik,tk)\n",
    "    K1 = g(xik+dt*K0/2,tk+dt/2)\n",
    "    K2 = g(xik+dt*K1/2,tk+dt/2)\n",
    "    K3 = g(xik+dt*K2,tk+dt)\n",
    "    xik1 = xik + (K0+2*K1+2*K2+K3)*dt/6\n",
    "    return xik1\n",
    "    \n",
    "\n",
    "def plot_func_old(func, x=np.linspace(0,5,3001), logscale=False, ylim=[], xlabel='', ylabel=''):\n",
    "    y = np.vectorize(func)(x)\n",
    "    plt.figure(figsize=(5,5))\n",
    "    axes_internal = plt.gca()\n",
    "    if logscale: axes_internal.set_yscale('log')\n",
    "    if len(ylim) == 2: axes_internal.set_ylim(ylim)\n",
    "    if xlabel: axes_internal.set_xlabel(xlabel)\n",
    "    if ylabel: axes_internal.set_ylabel(ylabel)\n",
    "    plt.title(func.__name__)\n",
    "    plt.plot(x,y)\n",
    "    plt.show()\n",
    "\n",
    "    \n",
    "def plot_vals(x1, y1, y2, y3, y4, logscale = False, xlabel='', ylabel='', title=''):\n",
    "    plt.figure(figsize=(5,5))\n",
    "    axes_internal = plt.gca()\n",
    "    if logscale: \n",
    "        # axes_internal.set_yscale('log')\n",
    "        axes_internal.set_xscale('log')\n",
    "    if xlabel: axes_internal.set_xlabel(xlabel)\n",
    "    if ylabel: axes_internal.set_ylabel(ylabel)\n",
    "    if title: plt.title(title)\n",
    "    plt.plot(x1,y1, label = 'Explicit Euler')\n",
    "    if y2.any(): plt.plot(x1,y2, label = 'Implicit Euler')\n",
    "    if y3.any(): plt.plot(x1,y3, label = 'RK2')\n",
    "    if y4.any(): plt.plot(x1,y4, label = 'RK4')\n",
    "    plt.legend()\n",
    "    plt.show()\n",
    "\n"
   ]
  },
  {
   "cell_type": "code",
   "execution_count": 194,
   "id": "761cbd19-d090-41a7-a370-1a465180b9da",
   "metadata": {},
   "outputs": [
    {
     "data": {
      "image/png": "[encoded data removed]",
      "text/plain": [
       "<matplotlib.figure.Figure at 0x7fefac1fe4e0>"
      ]
     },
     "metadata": {},
     "output_type": "display_data"
    },
    {
     "name": "stdout",
     "output_type": "stream",
     "text": [
      "0.6\n"
     ]
    }
   ],
   "source": [
    "# Problem 1\n",
    "def g1(y,t):\n",
    "    return -2*y\n",
    "\n",
    "\n",
    "\n",
    "dt = 0.6\n",
    "tmin = 0\n",
    "tmax = 15\n",
    "xi0 = 4\n",
    "\n",
    "\n",
    "numvals = math.floor((tmax-tmin)/dt)\n",
    "vals = np.zeros((numvals+1, 5))\n",
    "vals [:,0] = np.linspace(tmin,tmax,numvals+1)\n",
    "truedt = vals[1,0] - vals[0,0]\n",
    "vals[0,1] = xi0\n",
    "vals[0,2] = xi0\n",
    "vals[0,3] = xi0\n",
    "vals[0,4] = xi0\n",
    "\n",
    "\n",
    "for i in np.arange(0,numvals):\n",
    "    tval = vals[i,0]\n",
    "    xik = vals[i,1]\n",
    "    vals[i+1,1] = expEuler(g1,dt,xik,tval)\n",
    "    vals[i+1,2] = impEulerP1(g,dt,xik,tval)\n",
    "    vals[i+1,3] = RK2(g,dt,xik,tval)\n",
    "    vals[i+1,4] = RK4(g,dt,xik,tval)\n",
    "\n",
    "plot_vals(vals[:,0],vals[:,1],vals[:,2],vals[:,3],vals[:,4],logscale = False)\n",
    "\n",
    "print(truedt)"
   ]
  },
  {
   "cell_type": "code",
   "execution_count": null,
   "id": "bf692629-82d7-43c0-835c-b92482fbfdc7",
   "metadata": {},
   "outputs": [],
   "source": []
  },
  {
   "cell_type": "code",
   "execution_count": null,
   "id": "9c6c72e2-fdec-46de-847c-ae302bede85d",
   "metadata": {},
   "outputs": [],
   "source": []
  },
  {
   "cell_type": "code",
   "execution_count": null,
   "id": "767a6ff4-56fb-412a-999f-2d3449795012",
   "metadata": {},
   "outputs": [],
   "source": []
  }
 ],
 "metadata": {
  "kernelspec": {
   "display_name": "Python 3.6",
   "language": "python",
   "name": "python_3.6"
  },
  "language_info": {
   "codemirror_mode": {
    "name": "ipython",
    "version": 3
   },
   "file_extension": ".py",
   "mimetype": "text/x-python",
   "name": "python",
   "nbconvert_exporter": "python",
   "pygments_lexer": "ipython3",
   "version": "3.6.5"
  }
 },
 "nbformat": 4,
 "nbformat_minor": 5
}
