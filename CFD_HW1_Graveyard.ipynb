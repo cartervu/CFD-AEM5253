{
 "cells": [
  {
   "cell_type": "code",
   "execution_count": null,
   "id": "0bde4d76-6134-477f-a7dd-dcc64ce9cee6",
   "metadata": {},
   "outputs": [],
   "source": [
    "def SOS(g,xi0,tmin,tmax,exact,solvers,tvec = [0.1, 0.5, 1.0], plot=True): # Second Order Solver\n",
    "    solutionvals = []\n",
    "    texact = np.arange(tmin,tmax,0.1)\n",
    "    exactvals = exact(texact,xi0[0]) # this is for this particular exact solution\n",
    "    \n",
    "    for dt in tvec:\n",
    "        numvals = math.ceil(abs((tmax-tmin)/dt))++1\n",
    "        \n",
    "        numcols = 1 + 8 # number of columns assuming 2nd order, y1 and y2 for each solver + 1 shared vector of times.\n",
    "        # We want this structure to be fixed: 0 is time, 1-2 are expEuler data, 3-4 are impEuler data, 5-6 are RK2 data, 7-8 are RK4 data. \n",
    "        # If any solvers aren't used, their allocated space remains zeros.\n",
    "        # We do this because dynamically adjusting which data to reference based on what solvers there are and the number of solvers there are is difficult\n",
    "        vals = np.zeros((numvals, numcols)) \n",
    "        vals [:,0] = np.linspace(tmin,tmax,numvals)\n",
    "        truedt = vals[1,0] - vals[0,0]\n",
    "        print('True step size t=',truedt)\n",
    "\n",
    "        numsolvers = len(solvers)\n",
    "        for solverindex in np.arange(0,numsolvers): \n",
    "            solvefunc = solvers[solverindex]\n",
    "            if solvefunc.__name__ == 'expEuler':\n",
    "                # print('expEuler')\n",
    "                storageindex = 0\n",
    "            elif solvefunc.__name__ == 'impEuler':\n",
    "                # print('impEuler')\n",
    "                storageindex = 1\n",
    "            elif solvefunc.__name__ == 'RK2':\n",
    "                # print('RK2')\n",
    "                storageindex = 2\n",
    "            else: # RK4\n",
    "                # print('RK4/catch')\n",
    "                storageindex = 3\n",
    "            vals[0,2*storageindex+1] = xi0[0] #initialize the solution matrix\n",
    "            vals[0,2*storageindex+2] = xi0[1]\n",
    "            \n",
    "            \n",
    "            for i in np.arange(0,numvals-1):\n",
    "                tempstatevec = np.array([vals[i,1],vals[i,2]]) # Note that the temporary state vector is y1;y2\n",
    "                tval = vals[i,0] # 0 is tvals\n",
    "                yvec = solvefunc(g,dt,tempstatevec,tval) # solve the actual ODE\n",
    "                vals[i+1,2*storageindex+1] = yvec[0] # store the values\n",
    "                vals[i+1,2*storageindex+2] = yvec[1]\n",
    "        # I now recognize I should have defined a single solver function, allowed it the option to use any given solver, then spit out only one list of t's and y's.\n",
    "        # I also recognize I should define my exact solution function separately.\n",
    "        # print(vals)\n",
    "        if plot:\n",
    "            plot_vals(vals[:,0],vals[:,1],vals[:,3],vals[:,5],vals[:,7],texact,exactvals,logscale = False)\n",
    "        # solutionvals.append(vals)\n",
    "    return [solutionvals,texact,exactvals] #I recognize that this is a janky way to output the data, and plan to fix it for any future ODE solving.\n",
    "\n"
   ]
  },
  {
   "cell_type": "code",
   "execution_count": null,
   "id": "eeb57f2d-a0b1-4f5b-bc1d-b2ee159cf519",
   "metadata": {},
   "outputs": [],
   "source": [
    "test = SOS(g3b,y0,0,6,exact3b,solvers=[expEuler,impEuler,RK4],tvec = [0.15, 0.5, 1.0], plot=False)"
   ]
  },
  {
   "cell_type": "code",
   "execution_count": null,
   "id": "f1b72785-d414-429b-9b78-cd8c3e023127",
   "metadata": {},
   "outputs": [],
   "source": [
    "test = SOS(g3a,y0,0,6,exact3a,solvers=[expEuler,impEuler,RK4],tvec = [0.15, 0.5, 1.0], plot=False)"
   ]
  }
 ],
 "metadata": {
  "kernelspec": {
   "display_name": "Python 3 (ipykernel)",
   "language": "python",
   "name": "python3"
  },
  "language_info": {
   "codemirror_mode": {
    "name": "ipython",
    "version": 3
   },
   "file_extension": ".py",
   "mimetype": "text/x-python",
   "name": "python",
   "nbconvert_exporter": "python",
   "pygments_lexer": "ipython3",
   "version": "3.10.6"
  }
 },
 "nbformat": 4,
 "nbformat_minor": 5
}
