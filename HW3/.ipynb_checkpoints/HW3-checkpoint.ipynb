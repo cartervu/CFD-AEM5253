{
 "cells": [
  {
   "cell_type": "code",
   "execution_count": null,
   "id": "d59d15a3-dc24-4c65-a0a8-797285d8bf72",
   "metadata": {},
   "outputs": [],
   "source": [
    "# Problem 1"
   ]
  }
 ],
 "metadata": {
  "kernelspec": {
   "display_name": "Python 3 (ipykernel)",
   "language": "python",
   "name": "python3"
  },
  "language_info": {
   "codemirror_mode": {
    "name": "ipython",
    "version": 3
   },
   "file_extension": ".py",
   "mimetype": "text/x-python",
   "name": "python",
   "nbconvert_exporter": "python",
   "pygments_lexer": "ipython3",
   "version": "3.10.6"
  }
 },
 "nbformat": 4,
 "nbformat_minor": 5
}
