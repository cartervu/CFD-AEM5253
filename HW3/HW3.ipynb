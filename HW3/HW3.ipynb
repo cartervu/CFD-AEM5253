{
 "cells": [
  {
   "cell_type": "code",
   "execution_count": 1,
   "id": "d59d15a3-dc24-4c65-a0a8-797285d8bf72",
   "metadata": {},
   "outputs": [],
   "source": [
    "import numpy as np\n",
    "import matplotlib.pyplot as plt\n",
    "import math"
   ]
  },
  {
   "cell_type": "markdown",
   "id": "3aae1434-332f-4233-863b-b8e039c26587",
   "metadata": {},
   "source": [
    "# Problem 1\n",
    "model as 1D problem, with equation:\n",
    "$$\\frac{\\partial C}{\\partial t} = D\\frac{\\partial^2 C}{\\partial x^2}$$\n",
    "\n",
    "Where $C$ is the diffusion ccoefficient. We assume that at t0, the dye injeted at x0 is a delta function in concentration.\n",
    "\n",
    "The section we are looking at is 10 units long ($0\\leq x \\leq 10$) and $x0=5$ and $D=0.1$. Boundary conditions are $C(0,t)=C(10,t)=0$.\n",
    "\n",
    "Number of cells is $N$ so number of points is $N+1$. Our initial condition is $t=2$ from the exact solution. We time step from $t=2$ to $t=4$ on a grid with $N=100$ points with RK4 time stepping, crank nicolson. For RK4 we report the stable time step, and for crank-nicolson, we show the scheme is stable for large CFL. Note that we will need to use a tridiagonal solver to solve the system of equations. The Thomas Algorithm (a tridiagonal solver) is available online, and copy pasted below."
   ]
  },
  {
   "cell_type": "code",
   "execution_count": 2,
   "id": "aa8d2ac1-6c63-4e93-925f-2aec1ee44d52",
   "metadata": {},
   "outputs": [],
   "source": [
    "try:\n",
    "   import numpypy as np    # for compatibility with numpy in pypy\n",
    "except:\n",
    "   import numpy as np      # if using numpy in cpython\n",
    "\n",
    "def TDMASolve(a, b, c, d):\n",
    "    n = len(a)\n",
    "    ac, bc, cc, dc = map(np.array, (a, b, c, d))\n",
    "    xc = []\n",
    "    for j in range(1, n):\n",
    "        if(bc[j - 1] == 0):\n",
    "            ier = 1\n",
    "            return\n",
    "        ac[j] = ac[j]/bc[j-1]\n",
    "        bc[j] = bc[j] - ac[j]*cc[j-1]\n",
    "    if(b[n-1] == 0):\n",
    "        ier = 1\n",
    "        return\n",
    "    for j in range(1, n):\n",
    "        dc[j] = dc[j] - ac[j]*dc[j-1]\n",
    "    dc[n-1] = dc[n-1]/bc[n-1]\n",
    "    for j in range(n-2, -1, -1):\n",
    "        dc[j] = (dc[j] - cc[j]*dc[j+1])/bc[j]\n",
    "    return dc"
   ]
  },
  {
   "cell_type": "code",
   "execution_count": null,
   "id": "f2e814bf-e128-4d8b-bc81-7bddd92e30e9",
   "metadata": {},
   "outputs": [],
   "source": [
    "N = 100\n",
    "numpoints = N+1"
   ]
  }
 ],
 "metadata": {
  "kernelspec": {
   "display_name": "Python 3 (ipykernel)",
   "language": "python",
   "name": "python3"
  },
  "language_info": {
   "codemirror_mode": {
    "name": "ipython",
    "version": 3
   },
   "file_extension": ".py",
   "mimetype": "text/x-python",
   "name": "python",
   "nbconvert_exporter": "python",
   "pygments_lexer": "ipython3",
   "version": "3.10.6"
  }
 },
 "nbformat": 4,
 "nbformat_minor": 5
}
