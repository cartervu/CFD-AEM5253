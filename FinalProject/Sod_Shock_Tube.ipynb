{
 "cells": [
  {
   "cell_type": "code",
   "execution_count": 3,
   "id": "9b0e14f8-5840-43ba-8a9f-85de7093ac61",
   "metadata": {},
   "outputs": [],
   "source": [
    "import numpy as np\n",
    "import matplotlib.pyplot as plt\n",
    "import math"
   ]
  },
  {
   "cell_type": "markdown",
   "id": "3b02d294-bd0b-4083-83be-47ccfbde31b2",
   "metadata": {},
   "source": [
    "# To Do for Sod Shock Tube:\n",
    "- Update flux derivatives computation to work with curvilinear grids\n",
    "- Make the mesh generation a function, so all the variables and computations are neatly contained\n",
    "- Define mesh metrics (either 1 or 0 for sod shock tube)\n",
    "- Define Jacobian J (1 for sod shock tube)\n",
    "- Create initialization function to populate a mesh, if given the correct mesh\n",
    "    - Perhaps this should be done inside of the mesh creation step?\n",
    "- Create a function to apply boundary conditions to the problem\n",
    "- Create \"main\" function that actually performs the time stepping with some reasonable time step!\n",
    "- Make plots\n",
    "\n",
    "# To Do for Airfoil Problem\n",
    "- Generate grids for 4:1 ellipse in x/y and xi/eta space\n",
    "- Update mesh metrics\n",
    "- Update Jacobian J\n",
    "- Create initialization for the mesh\n",
    "- Create function to apply boundary conditions for the problem\n",
    "- Determine a reasonable time step\n",
    "- Make plots"
   ]
  },
  {
   "cell_type": "markdown",
   "id": "3fac9e97-db34-484e-bfc7-e7b7d200a03e",
   "metadata": {},
   "source": [
    "# Sod Shock Tube Problem\n",
    "\n",
    "Step 1: Create mesh\n",
    "\n",
    "Step 2: Split Fluxes, simple and Steger-Warming methods, in order to do upwinding\n",
    "\n",
    "Step 3: Initialize the values of rho, u, v, p throughout the problem \n",
    "\n",
    "Step 4: Apply explicit euler time stepping"
   ]
  },
  {
   "cell_type": "markdown",
   "id": "2c8f7306-7641-48ed-80a7-3a703672096a",
   "metadata": {},
   "source": [
    "# Create meshes in x, y\n",
    "\n",
    "This should be a function, so that I can choose what mesh to read into my solver -- a sod shock tube mesh, or a 4:1 elliptical airfoil mesh, or a NACA mesh!"
   ]
  },
  {
   "cell_type": "code",
   "execution_count": 38,
   "id": "f006ef4d-cf56-49a2-bb3e-01420e0e9f6d",
   "metadata": {},
   "outputs": [
    {
     "name": "stdout",
     "output_type": "stream",
     "text": [
      "dx = 0.05\n",
      "dy = 1.0\n",
      "1.0\n",
      "2.0\n"
     ]
    }
   ],
   "source": [
    "numinter_i = 91 #number of internal points in i. Number of intervals is numpts-1\n",
    "numinter_j = 2  #number of internal points in j. Number of intervals is numpts-1\n",
    "numghosts = 1\n",
    "\n",
    "# total number of points in each direction\n",
    "Ni = numinter_i + 2*numghosts\n",
    "Nj = numinter_j + 2*numghosts\n",
    "\n",
    "L = 4.5 # For sod shock tube\n",
    "H = 1\n",
    "\n",
    "dx = L/(numinter_i-1)\n",
    "dy = H/(numinter_j-1) # because this problem is 1D, this is somewhat arbitrary. Set dy = 1.\n",
    "print('dx = ' + str(dx))\n",
    "print('dy = ' + str(dy))\n",
    "\n",
    "# Note that x=1.95 is the boundary between points. Potentially want to make it so no points lie there?\n",
    "# x=1.95 is halfway between points? \n",
    "\n",
    "x = np.linspace(0,L+2*dx,Ni) \n",
    "y = np.linspace(0,H+2*dy,Nj)\n",
    "\n",
    "xinter = x[1:Ni-1] #Note that np indexing excludes the end index\n",
    "yinter = y[1:Nj-1] #Note that np indexing excludes the end index\n",
    "\n",
    "# print(x[Ni])\n",
    "# print(y[Nj])\n",
    "\n",
    "# for xval in x:\n",
    "#     print(xval)\n",
    "# for yval in y:\n",
    "#     print(yval)\n",
    "\n",
    "# for xval in xinter:\n",
    "#     print(xval)\n",
    "# for yval in yinter:\n",
    "#     print(yval)"
   ]
  },
  {
   "cell_type": "markdown",
   "id": "e9803506-7e73-4ee0-9354-ba1aedda9d72",
   "metadata": {},
   "source": [
    "# Create mesh in $\\xi$, $\\eta$ based on mesh in $x$, $y$\n",
    "\n",
    "I'll do this once I start working with the curvilinear coordinates! \n",
    "\n",
    "Make sure that my $\\Delta\\xi$ and $\\Delta\\eta$ values between points is always 1!!!!"
   ]
  },
  {
   "cell_type": "markdown",
   "id": "e6970ac6-b253-40b9-81a2-83dc3f56090a",
   "metadata": {},
   "source": [
    "# Define mesh metrics\n",
    "\n",
    "These include $\\xi_x$, $\\xi_y$, $\\eta_x$, $\\eta_y$, and $J$!"
   ]
  },
  {
   "cell_type": "markdown",
   "id": "c91d7bc7-c105-41c0-80f8-255028a219f3",
   "metadata": {},
   "source": [
    "# Jacobian of mesh transformation\n",
    "\n",
    "At a given point $(x,y)$, if we know the derivatives of $x$ and $y$ with respect to $\\xi$ and $\\eta$, we can compute $J$:\n",
    "\n",
    "$$J=\\frac{1}{x_\\xi y_\\eta - y_\\xi x_\\eta}$$\n",
    "\n",
    "If we have no mesh transformation, and let $\\xi=x$ and $\\eta=y$, then the above expression simplifies to $J=1$, since $y_\\xi=y_x=0$ and $x_\\eta=x_y=0$, since the x-coordinates and y-coordinates are linearly independent."
   ]
  },
  {
   "cell_type": "code",
   "execution_count": 43,
   "id": "47788dcb-94c0-4a7b-99e3-79e8d1435e1b",
   "metadata": {},
   "outputs": [],
   "source": [
    "def getJ(x,y,xi,eta):\n",
    "    J = np.ones((np.size(y),np.size(x))) # For no mesh transformation \n",
    "    return J"
   ]
  },
  {
   "cell_type": "markdown",
   "id": "ea7fd072-fe8c-40c4-ad50-a17e42702baa",
   "metadata": {},
   "source": [
    "# Define Global Variables\n",
    "\n",
    "Some variables will be global constants throughout the problem. We define these constants here:"
   ]
  },
  {
   "cell_type": "code",
   "execution_count": null,
   "id": "9f02a973-c222-4112-8ad6-6f8f2ae0adfb",
   "metadata": {},
   "outputs": [],
   "source": [
    "gamma = 1.3\n",
    "p_infty = 1/gamma\n",
    "rho_infty = 1\n",
    "c_infty = 1 # math.sqrt(gamma*p_infty/r_infty)\n",
    "\n",
    "# Note that these values are nondimensionalized. \n",
    "# If we want to solve a real problem, we can choose some physical values for p and rho infty."
   ]
  },
  {
   "cell_type": "markdown",
   "id": "1781bb75-36a2-410b-9f20-946ea8fd5378",
   "metadata": {},
   "source": [
    "# Explicit Euler Time Stepping\n",
    "\n",
    "$$U_{i,j}^{n+1} = U_{i,j}^n - \\Delta t * J_{i,j}*R_{i,j}$$\n",
    "\n",
    "Note that $U_{i,j}$ is a 1D array at each point in space, and so the full $U$ throughout the 2D domain at time $t$ is a 3D array. Similarly, $R_{i,j}$ is a 1D array at each point in space, and so the full $R$ throughout the 2D domain at time $t$ is a 3D array.\n",
    "\n",
    "Computing $U_{i,j}^{n+1}$ requires us to initialize $U_{i,j}^n$, pick a stable time step $\\Delta t$, compute the jacobian of our mesh transformation $J$, and the quantity $R$, which in turn requires us to obtain the spatial derivatives of $\\tilde{F}$ and $\\tilde{G}$ using upwinding and flux vector splitting.\n",
    "\n",
    "One question: Where does the upwinding come into play? We can compute $F^+$ and $F^-$ if we really want to, but where does this come in?\n",
    "\n",
    "Answer: This comes into play when we compute the spatial derivative. We upwind with $F^-$ and downwind with $F^+$ (if i recall correctly)."
   ]
  },
  {
   "cell_type": "code",
   "execution_count": 39,
   "id": "eb73a843-55f1-4df2-a00c-444fb800cd09",
   "metadata": {},
   "outputs": [],
   "source": [
    "def expeuler(u,dt,J,R):\n",
    "    uk1 = np.full_like(u,0)\n",
    "    for i in range(np.size(x)):\n",
    "        for j in range(np.size(y)):\n",
    "            uk1[i,j,:] = u[i,j,:] - dt*J[i,j]*R[i,j,:]\n",
    "    return uk1"
   ]
  },
  {
   "cell_type": "markdown",
   "id": "883b3921-482c-414e-b9c9-906323d4c10e",
   "metadata": {},
   "source": [
    "# Computing Fluxes\n",
    "\n",
    "In order to compute the derivatives of $\\tilde{F}$ and $\\tilde{G}$, we need to compute the derivatives $A$ and $B$ with respect to $U$:\n",
    "\n",
    "$$\\frac{\\partial U}{\\partial t} + \\frac{\\partial F}{\\partial \\xi} + \\frac\n",
    "{\\partial G}{\\partial \\eta}=0$$\n",
    "$$\\frac{\\partial U}{\\partial t} + \\frac{\\partial F}{\\partial U}\\frac{\\partial U}{\\partial \\xi} + \\frac\n",
    "{\\partial G}{\\partial U}\\frac{\\partial U}{\\partial \\eta}=0$$\n",
    "$$\\frac{\\partial U}{\\partial t} + A \\frac{\\partial U}{\\partial \\xi} + B \\frac{\\partial U}{\\partial \\eta}=0$$\n",
    "\n",
    "Note that:\n",
    "$$F = AU$$\n",
    "\n",
    "\n",
    "\n",
    "\n",
    "Then, if we assume $A$ is constant in space, $\\frac{\\partial F}{\\partial \\xi} =A  \\frac{\\partial U}{\\partial \\xi}$. Otherwise, $\\frac{\\partial F}{\\partial \\xi} =A  \\frac{\\partial U}{\\partial \\xi} + \\frac{\\partial A}{\\partial \\xi}U$. \n",
    "\n",
    "To start, let's compute $A$ and $B$:\n",
    "\n",
    "\n",
    "HOLD UP:\n",
    "We actually don't need to compute these, because Steger and Warming have already done it for us. They also took these matrices, found the eigenvector/eigenvalue decomposition, split the eigenvalues into the + and - components, and multiplied the right eigenvector matrix by the eigenvalue+/- matrices and the left eigenvector matrix, and computed the generalized flux vector. This result is what we will compute, for the sake of me saving time right now. Later, I can come back and determine A and B, and then the eigendecompositions, and then perform the matrix multiplication $Q*lambda*Qinv*U$, and then obtain the generalized flux vector that Steger and Warming obtained.\n",
    "\n",
    "\n",
    "In order to compute these derivatives in a compressible flow where there may be some shockwaves, we should upwind appropriately. To do this, we use Steger and Warming's flux vector splitting method, in particular, see equation B9 in their paper.\n"
   ]
  },
  {
   "cell_type": "code",
   "execution_count": null,
   "id": "f5f9eadb-6961-4276-a20b-f4b0ef190172",
   "metadata": {},
   "outputs": [],
   "source": [
    "def fluxpm(fg,plusminus,U,smoothing=True):\n",
    "    # Note that here, U is a vector for the particular i,j that we are computing fluxes at\n",
    "    if fg == 'F':\n",
    "        k1 = 1\n",
    "        k2 = 0\n",
    "    elif fg == 'G':\n",
    "        k1 = 0\n",
    "        k2 = 1\n",
    "        \n",
    "    # These equations B4 are technically necessary, but as k1t = k1 and k2t = k2\n",
    "    # for the values of k1 and k2 we are interested in (0 or 1), these equations are unnecessary.\n",
    "    # k1t = k1/(k1**2+k2**2)**(1/2)\n",
    "    # k2t = k2/(k1**2+k2**2)**(1/2)\n",
    "    \n",
    "    u = U[1]/U[0] # rho*u/rho = u\n",
    "    v = U[2]/U[0] # rho*v/rho = v\n",
    "    \n",
    "    # this is somewhat wasteful in terms of computations.\n",
    "    # the generalized flux vector requires more computations than the flux vector \n",
    "    # for each individual F/G would require. However, this is easier to implement.\n",
    "    # It also means I don't have to define as many functions.\n",
    "    l1 = k1*u + k2*v \n",
    "    l3 = l1 + c*(k1**2+k2**2)**(1/2) # Note that this is equal to l1+c for all values of interest\n",
    "    l4 = l1 - c*(k1**2+k2**2)**(1/2) # Note that this is equal to l1-c for all values of interest\n",
    "    \n",
    "    # The \"smoothing\"\n",
    "    if smoothing:\n",
    "        l1 = smoothlambda(l1,plusminus)\n",
    "        l3 = smoothlambda(l3)\n",
    "        l4 = smoothlambda(l4)\n",
    "    else:\n",
    "        l1 = roughlambda(l1)\n",
    "        l3 = roughlambda(l3)\n",
    "        l4 = roughlambda(l4)\n",
    "    \n",
    "    fluxvec = np.zeros((4,1)) # 4 rows, 1 column\n",
    "    # Note that gamma and c are global variables\n",
    "    # Note that we write these equations in terms of k1 and k2, not k1t and k2t\n",
    "    # this is because k1=k1t and k2=k2t for the values of interest\n",
    "    fluxvec[0] = 2*(gamma-1)*l1+l3+l4\n",
    "    fluxvec[1] = 2*(gamma-1)*l1*u + l3*(u+c*k1) + l4*(u-c*k1)\n",
    "    fluxvec[2] = 2*(gamma-1)*l1*v + l3*(v+c*k1) + l4*(v-c*k1)\n",
    "    fluxvec[3] = (gamma-1)*l1*(u**2+v**2) + l3/2*((u+c*k1)**2 + (v+c*k2)**2) + \\\n",
    "    l4/2*((u-c*k1)**2 + (v-c*k2)**2) + (3-gamma)*(l3+l4)*c**2/(2*(gamma-1))\n",
    "    \n",
    "    return fluxvec\n",
    "    \n",
    "        \n",
    "    \n",
    "def smoothlambda(lambdaval,plusminus=[]):\n",
    "    ep = 0.01 # not sure if this is a good value... should try some different ones?\n",
    "    if plusminus == 'plus':\n",
    "        lpm = (lambdaval + math.sqrt(lambdaval**2+ep**2))/2\n",
    "    elif plusminus == 'minus':\n",
    "        lpm = (lambdaval - math.sqrt(lambdaval**2+ep**2))/2\n",
    "    return lpm\n",
    "\n",
    "def roughlambda(lambdaval,plusminus=[]):\n",
    "    if plusminus == 'plus':\n",
    "        lpm = (lambdaval + abs(lambdaval))/2\n",
    "    elif plusminus == 'minus':\n",
    "        lpm = (lambdaval - abs(lambdaval))/2\n",
    "    return lpm"
   ]
  },
  {
   "cell_type": "markdown",
   "id": "5d032437-3fcc-4b7c-a178-18a5fc37ccaa",
   "metadata": {},
   "source": [
    "# Flux Derivatives\n",
    "\n",
    "\n",
    "We have from Pramod's slides \"evec\" that the formulation of explicit Euler we are to use is given with the following definition of a quantity $R$:\n",
    "\n",
    "$$R_{i,j} = \\left(\\frac{\\partial\\tilde{F}}{\\partial\\xi} + \\frac{\\partial\\tilde{G}}{\\partial\\eta}\\right)_{i,j}$$\n",
    "\n",
    "\n",
    "\n",
    "Recall from the assignment that we can implement upwinding as follows for Steger and Warming's flux splitting method:\n",
    "\n",
    "$$\\frac{\\partial \\tilde{F}}{\\partial \\xi} \\approx \\frac{\\tilde{F}_i^+ - \\tilde{F}_{i-1}^+}{\\Delta \\xi} + \\frac{\\tilde{F}_{i+1}^- - \\tilde{F}_{i}^-}{\\Delta \\xi} $$\n",
    "\n",
    "$$\\frac{\\partial \\tilde{G}}{\\partial \\eta} \\approx \\frac{\\tilde{G}_i^+ - \\tilde{G}_{i-1}^+}{\\Delta \\eta} + \\frac{\\tilde{G}_{i+1}^- - \\tilde{G}_{i}^-}{\\Delta \\xi} $$\n",
    "\n",
    "\n",
    "\n",
    "For $\\xi=x$ and $\\eta=y$ we have:\n",
    "\n",
    "$$R_{i,j} = \\left(\\frac{\\partial\\tilde{F}}{\\partial x} + \\frac{\\partial\\tilde{G}}{\\partial y}\\right)_{i,j}$$\n",
    "\n",
    "\n",
    "\n"
   ]
  },
  {
   "cell_type": "code",
   "execution_count": 42,
   "id": "fbca4570-6fc9-4770-9943-510880275a86",
   "metadata": {},
   "outputs": [],
   "source": [
    "\n",
    "# THIS BLOCK IS RIGHT FOR SOD SHOCK TUBE WITH DX, DY = 1, BUT WRONG FOR EVERYTHING ELSE. \n",
    "# NEEDS TO COMPUTE F VALUES AND G VALUES WITHIN A SINGLE FUNCTION.\n",
    "# THEN MULTIPLY BY DERIVATIVES xix, xiy, etax, etay, DIVIDE BY J, TO GET TILDE VALUES\n",
    "# THEN, COMPUTE DERIVATIVES OF TILDE VALUES\n",
    "# THEN, ADD DERIVATIVES AND RETURN R\n",
    "\n",
    "def get_dFdxi(U):\n",
    "    # This takes in the 3D array U and returns a 3d array, the 1D vector dFdxi at all points in 2D mesh\n",
    "    dFdxi = np.full_like(U,0)\n",
    "    for i in np.shape(U)[0]: # NEED TO EXCLUDE THE GHOST CELLS\n",
    "        for j in np.shape(U)[1]: # NEED TO EXCLUDE THE GHOST CELLS\n",
    "            Fpl = fluxpm('F','plus',U[i,j],smoothing=True)\n",
    "            Flopl = fluxpm('F','plus',U[i-1,j],smoothing=True)\n",
    "            Fhimi = fluxpm('F','minus',U[i+1,j],smoothing=True)\n",
    "            Fmi = fluxpm('F','minus',U[i,j],smoothing=True)\n",
    "            # ADD IN COMPUTATION OF FTILDE, GTILDE\n",
    "            dFdxi[i,j,:] = (Fpl - Flopl) + (Fhimi - Fmi)\n",
    "            # NOTE THAT I ASSUME DELTA XI IS 1\n",
    "    return dFdxi\n",
    "\n",
    "def get_dGdeta(U):\n",
    "    # This takes in the 3D array U and returns a 3d array, the 1D vector dGdxi at all points in 2D mesh\n",
    "    dGdeta = np.full_like(U,0)\n",
    "    for i in np.shape(U)[0]: # NEED TO EXCLUDE THE GHOST CELLS\n",
    "        for j in np.shape(U)[1]: # NEED TO EXCLUDE THE GHOST CELLS\n",
    "            Gpl = fluxpm('G','plus',U[i,j],smoothing=True)\n",
    "            Glopl = fluxpm('G','plus',U[i-1,j],smoothing=True)\n",
    "            Ghimi = fluxpm('G','minus',U[i+1,j],smoothing=True)\n",
    "            Gmi = fluxpm('G','minus',U[i,j],smoothing=True)\n",
    "            # ADD IN COMPUTATION OF FTILDE, GTILDE\n",
    "            dGdeta[i,j,:] = (Gpl - Glopl) + (Ghimi - Gmi)\n",
    "            # NOTE THAT I ASSUME DELTA ETA IS 1\n",
    "    return dGdeta\n",
    "\n",
    "\n",
    "def getR(U):\n",
    "    dFdxi = get_dFdxi(U)\n",
    "    dGdeta = get_dGdeta(U)\n",
    "    R = dFdxi + dGdeta\n",
    "    return R\n"
   ]
  },
  {
   "cell_type": "markdown",
   "id": "6165ba1e-a76e-423c-a478-6b616452dfa3",
   "metadata": {},
   "source": [
    "# Initialize Solution\n",
    "\n",
    "Note that pleft = 1, pright = 10. Other than that, u and v are initialized to zero. Rho is initialized to some reasonable value rho0. All plots"
   ]
  },
  {
   "cell_type": "code",
   "execution_count": null,
   "id": "bbc41566-4db6-428c-b97e-c42f167a7e8a",
   "metadata": {},
   "outputs": [],
   "source": []
  },
  {
   "cell_type": "markdown",
   "id": "9a54c747-8025-41f0-b50f-e84b35439680",
   "metadata": {},
   "source": [
    "# Apply Boundary Conditions"
   ]
  },
  {
   "cell_type": "code",
   "execution_count": null,
   "id": "7b27c4f6-d981-4ccd-80eb-f7a2e031d10e",
   "metadata": {},
   "outputs": [],
   "source": []
  },
  {
   "cell_type": "markdown",
   "id": "f21502aa-bb40-4e30-bc74-ccf22a80c4a0",
   "metadata": {},
   "source": [
    "# Perform Time Stepping\n",
    "\n",
    "This is where we perform the actual solution of the problem! Also, make sure to pick a reasonable time step!"
   ]
  },
  {
   "cell_type": "code",
   "execution_count": null,
   "id": "65ca84c2-51b3-4b81-b0cd-63324533e230",
   "metadata": {},
   "outputs": [],
   "source": []
  },
  {
   "cell_type": "markdown",
   "id": "1d45010f-6e32-4c86-a24a-10bcab8b6483",
   "metadata": {},
   "source": [
    "# Create solution plots!\n",
    "\n",
    "For the sod shock tube, we want a plot of rho/rho0 vs x."
   ]
  },
  {
   "cell_type": "code",
   "execution_count": null,
   "id": "5bd15480-f363-48f3-b7d8-11ef82d198bd",
   "metadata": {},
   "outputs": [],
   "source": []
  },
  {
   "cell_type": "code",
   "execution_count": null,
   "id": "bebe0b43-72a2-4017-895a-4e10e13097f7",
   "metadata": {},
   "outputs": [],
   "source": []
  }
 ],
 "metadata": {
  "kernelspec": {
   "display_name": "Python 3 (ipykernel)",
   "language": "python",
   "name": "python3"
  },
  "language_info": {
   "codemirror_mode": {
    "name": "ipython",
    "version": 3
   },
   "file_extension": ".py",
   "mimetype": "text/x-python",
   "name": "python",
   "nbconvert_exporter": "python",
   "pygments_lexer": "ipython3",
   "version": "3.10.6"
  }
 },
 "nbformat": 4,
 "nbformat_minor": 5
}
