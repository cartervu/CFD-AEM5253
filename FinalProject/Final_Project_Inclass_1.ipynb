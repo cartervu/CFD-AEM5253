{
 "cells": [
  {
   "cell_type": "markdown",
   "id": "b7be055c-6164-4056-a11c-b6217b3778fa",
   "metadata": {},
   "source": [
    "# Computing mesh quantities\n",
    "We have a curvilinear problem\n",
    "\n",
    "The standard euler equations, you write as:\n"
   ]
  },
  {
   "cell_type": "markdown",
   "id": "bb2c35ff-4789-4244-8f4b-f70092d5f00a",
   "metadata": {},
   "source": [
    "$$\\frac{\\partial U}{\\partial t} + \\frac{\\partial F}{\\partial x} + \\frac\n",
    "{\\partial G}{\\partial y}=0$$\n",
    "\n",
    "Note that $\\rho E = \\frac{1}{2}\\rho(u^2 + v^2) + \\frac{p}{\\gamma-1}$"
   ]
  },
  {
   "cell_type": "markdown",
   "id": "dfbcb296-9009-45fa-8c1f-ee1227bc84dc",
   "metadata": {},
   "source": [
    "When you transform from x,y to $\\xi$, $\\eta$, you have to write:\n",
    "\n",
    "$$\\frac{df}{dx}=\\frac{df}{d\\xi}\\frac{d\\xi}{dx} + \\frac{df}{d\\eta}\\frac{d\\eta}{dx}$$\n",
    "\n",
    "Now, we write $\\bar{F}$ in terms of $\\xi$ and $\\bar{G}$ in terms of $\\eta$\n",
    "\n",
    "This project is a mesh wrapped around an ellipse, but you should be able to use any old grid and still make it work. \n",
    "\n",
    "Note that the Jacobian is given by: \n",
    "\n",
    "$$J=\\frac{1}{x_\\xi y_\\eta - y_\\xi x_\\eta}$$\n",
    "\n",
    "Suppose our mesh is a rectangular grid, 4x4 points. This means you have 4 interior points and 12 exterior points.\n",
    "\n",
    "In some problems, you may need ghost cells, so let's add some ghost cells. One layer of ghost cells on all sides (though the ghost corners should never be used).\n",
    "\n",
    "How should we number things? To keep our sanity, we should number our grid indices the same as our solution indices. We'll have our lower left-most never used ghost cell as (1,1), and the first interior point of interest as (numghosts + 1, numghosts + 1)\n",
    "\n",
    "Suppose we want $N_i$ interior points in the x direction and $N_j$ points in the y direction.\n",
    "\n",
    "Let's write for convenience that a variable ib=numghosts +1, jb = numghosts+1, this is the first boundary point in our domain\n",
    "\n",
    "If we loop through our interior points, in x we go from ib to ie = ib+$N_i-1$. In y we go frmo jb to je=jb + $N_j-1)\n",
    "\n",
    "Why is it $N_i-1?$ on the edge?"
   ]
  },
  {
   "cell_type": "markdown",
   "id": "2c4aa8b1-1d7e-47d7-806f-0e5e5cac8d21",
   "metadata": {},
   "source": [
    "# Goals\n",
    "\n",
    "We want to write code to:\n",
    "    - create a grid\n",
    "    - read in a grid"
   ]
  },
  {
   "cell_type": "code",
   "execution_count": 1,
   "id": "1d7746d9-f1d1-461c-aa5e-75b000ab52b6",
   "metadata": {},
   "outputs": [],
   "source": [
    "import numpy as np\n",
    "import matplotlib.pyplot as plt\n",
    "import math"
   ]
  },
  {
   "cell_type": "code",
   "execution_count": 2,
   "id": "4415a382-3227-454f-9fc7-cfd9934a3f63",
   "metadata": {},
   "outputs": [
    {
     "ename": "SyntaxError",
     "evalue": "expected ':' (4111559446.py, line 16)",
     "output_type": "error",
     "traceback": [
      "\u001b[0;36m  Cell \u001b[0;32mIn [2], line 16\u001b[0;36m\u001b[0m\n\u001b[0;31m    for i in np.arange(0,dimx)\u001b[0m\n\u001b[0m                              ^\u001b[0m\n\u001b[0;31mSyntaxError\u001b[0m\u001b[0;31m:\u001b[0m expected ':'\n"
     ]
    }
   ],
   "source": [
    "# CREATING A MESH\n",
    "def main():\n",
    "    # global variables accessible throughout the solution\n",
    "    Ni = 51\n",
    "    Nj = 21\n",
    "    numghosts = 1\n",
    "    dimx = Ni + 2*numghosts\n",
    "    dimy = Nj + 2*numghosts\n",
    "    \n",
    "    xi = np.empty(dimx)\n",
    "    eta = np.empty(dimy)\n",
    "    \n",
    "    # We want to compute the transformation matrix at all points (x,y)\n",
    "    # Then, we want to invert it: \n",
    "    dxi/dx = dy/deta * determinant\n",
    "    # so that we can obtain df/dx and df/dy in terms of df/d xi and df/d eta\n",
    "    \n",
    "    \n",
    "    return\n",
    "\n",
    "# Let's compute d xi / dx as (x_i+1,j - x_i-1, j) / 2\n",
    "# How in the world did we get that?? We have $xi as our nice normal grid coordinate or our original coordinate?\n",
    "# xi is our nice normal grid coordinate!!! x,y is for the original coordinate system.\n",
    "# Why do we have two different grid spacings? \n",
    "# Because you can transform from one coordinate system to another with a different spacing...\n",
    "\n",
    "def makeexamplegrid():\n",
    "    dimx = 2\n",
    "    dimy = 1\n",
    "    for i in np.arange(0,dimx)\n",
    "        for j in np.arange(0,dimy)\n",
    "            x(i,j) = i*2 / (ni-numghosts)\n",
    "            y(i,j) = j*2 / (nj-numghosts) #HAVE TO DEAL WITH THE ZERO FOR AN OFF-BY-ONE ERROR\n",
    "    return\n",
    "\n",
    "def gettransmat(x,y): \n",
    "    #transformation matrix (x_xi, x_eta; y_xi, y_eta) at a point x,y in our original grid\n",
    "    # Note that the inverse is T^-1 = (xi_x xi_y; eta_x eta_y)\n",
    "    return\n",
    "\n",
    "\n",
    "# def gridreader(dimx,dimy):\n",
    "    \n",
    "    \n",
    "#     return\n",
    "\n"
   ]
  },
  {
   "cell_type": "code",
   "execution_count": null,
   "id": "d1c24c37-88d2-42dc-b963-6663ab576df6",
   "metadata": {},
   "outputs": [],
   "source": [
    "# We have some transformation matrix, where dx/dxi as (x i+1,j - xi-1, j) /2\n",
    "# for some conditions. Else, if we're at a boundary, it's a 1D approximation.  "
   ]
  },
  {
   "cell_type": "code",
   "execution_count": null,
   "id": "82016746-d472-447d-9c99-3c8ddab4e003",
   "metadata": {},
   "outputs": [],
   "source": [
    "# Goal for Thursday:\n",
    "# create some mesh, be able to compute metrics, and then compute some function f(x,y) = x^2+y\n",
    "# Then, differentiate the function analytically\n",
    "# df dx should be given by the df/dx in the second equation above."
   ]
  }
 ],
 "metadata": {
  "kernelspec": {
   "display_name": "Python 3 (ipykernel)",
   "language": "python",
   "name": "python3"
  },
  "language_info": {
   "codemirror_mode": {
    "name": "ipython",
    "version": 3
   },
   "file_extension": ".py",
   "mimetype": "text/x-python",
   "name": "python",
   "nbconvert_exporter": "python",
   "pygments_lexer": "ipython3",
   "version": "3.10.6"
  }
 },
 "nbformat": 4,
 "nbformat_minor": 5
}
